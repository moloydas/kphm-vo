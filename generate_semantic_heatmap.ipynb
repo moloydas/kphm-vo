{
 "cells": [
  {
   "cell_type": "code",
   "execution_count": 24,
   "metadata": {},
   "outputs": [
    {
     "name": "stdout",
     "output_type": "stream",
     "text": [
      "Collecting opencv-python\n",
      "  Using cached opencv_python-4.10.0.84-cp37-abi3-manylinux_2_17_x86_64.manylinux2014_x86_64.whl (62.5 MB)\n",
      "Requirement already satisfied: numpy>=1.17.3; python_version >= \"3.8\" in /home/moloy/projects/segmentation/segformer/.venv/lib/python3.8/site-packages (from opencv-python) (1.24.4)\n",
      "Installing collected packages: opencv-python\n",
      "Successfully installed opencv-python-4.10.0.84\n"
     ]
    }
   ],
   "source": [
    "!pip install opencv-python"
   ]
  },
  {
   "cell_type": "code",
   "execution_count": 2,
   "metadata": {},
   "outputs": [],
   "source": [
    "import os\n",
    "from PIL import Image\n",
    "import matplotlib.pyplot as plt\n",
    "import numpy as np\n",
    "import cv2\n",
    "%matplotlib inline"
   ]
  },
  {
   "cell_type": "code",
   "execution_count": 3,
   "metadata": {},
   "outputs": [],
   "source": [
    "class_names = [\n",
    "    # \"unlabelled\",\n",
    "    \"road\",\n",
    "    \"sidewalk\",\n",
    "    \"building\",\n",
    "    \"wall\",\n",
    "    \"fence\",\n",
    "    \"pole\",\n",
    "    \"traffic_light\",\n",
    "    \"traffic_sign\",\n",
    "    \"vegetation\",\n",
    "    \"terrain\",\n",
    "    \"sky\",\n",
    "    \"person\",\n",
    "    \"rider\",\n",
    "    \"car\",\n",
    "    \"truck\",\n",
    "    \"bus\",\n",
    "    \"train\",\n",
    "    \"motorcycle\",\n",
    "    \"bicycle\",\n",
    "]\n",
    "\n",
    "high_conf_obj_weight = 1.0\n",
    "static_obj_weight = 0.9\n",
    "maybe_static_obj_weight = 0.7\n",
    "noisy_obj_weight = 0.2\n",
    "dynamic_obj_weight = 0.3\n",
    "\n",
    "class_weights = [\n",
    "    static_obj_weight,      # \"road\"\n",
    "    high_conf_obj_weight,   # \"sidewalk\",\n",
    "    high_conf_obj_weight,   # \"building\",\n",
    "    high_conf_obj_weight,   # \"wall\",\n",
    "    high_conf_obj_weight,   # \"fence\",\n",
    "    high_conf_obj_weight,   # \"pole\",\n",
    "    high_conf_obj_weight,   # \"traffic_light\",\n",
    "    high_conf_obj_weight,   # \"traffic_sign\",\n",
    "    noisy_obj_weight,       # \"vegetation\",\n",
    "    noisy_obj_weight,       # \"terrain\",\n",
    "    noisy_obj_weight,       # \"sky\",\n",
    "    dynamic_obj_weight,     # \"person\",\n",
    "    dynamic_obj_weight,     # \"rider\",\n",
    "    dynamic_obj_weight,     # \"car\",\n",
    "    maybe_static_obj_weight,# \"truck\",\n",
    "    maybe_static_obj_weight,# \"bus\",\n",
    "    maybe_static_obj_weight,# \"train\",\n",
    "    dynamic_obj_weight,     # \"motorcycle\",\n",
    "    dynamic_obj_weight,     # \"bicycle\"\n",
    "]"
   ]
  },
  {
   "cell_type": "code",
   "execution_count": null,
   "metadata": {},
   "outputs": [],
   "source": [
    "kitti_seg_dir = \"/home/moloy/projects/localization/datasets/kitti/sequences/\"\n",
    "output_root_dir = \"/home/moloy/projects/localization/kphm-vo/dataset/kitti_odom/related/semantic_heatmap/\"\n",
    "shift_heatmap_dir = \"/home/moloy/projects/localization/kphm-vo/dataset/kitti_odom/related/kpheatmap/\"\n",
    "img_folder = \"image_3\""
   ]
  },
  {
   "cell_type": "code",
   "execution_count": 6,
   "metadata": {},
   "outputs": [
    {
     "name": "stdout",
     "output_type": "stream",
     "text": [
      "Processing sq:  0\n",
      "Processing sq:  1\n",
      "Processing sq:  2\n",
      "Processing sq:  3\n",
      "Processing sq:  4\n",
      "Processing sq:  5\n",
      "Processing sq:  6\n",
      "Processing sq:  7\n",
      "Processing sq:  8\n",
      "Processing sq:  9\n",
      "Processing sq:  10\n"
     ]
    }
   ],
   "source": [
    "for sq_no in range(11):\n",
    "    working_dir = os.path.join(kitti_seg_dir, \n",
    "                                str(sq_no).zfill(2), \n",
    "                                img_folder + \"_segmented\")\n",
    "\n",
    "    print(\"Processing sq: \", sq_no)\n",
    "\n",
    "    all_img_files = os.listdir(working_dir)\n",
    "    kernel = np.ones((5,5),np.float32)/25\n",
    "\n",
    "    output_dir = os.path.join(output_root_dir, str(sq_no).zfill(2), img_folder)\n",
    "\n",
    "    if not os.path.exists(output_dir):\n",
    "        os.makedirs(output_dir, exist_ok=True)\n",
    "\n",
    "    for img_file in all_img_files:\n",
    "        if not img_file.endswith('.npy'):\n",
    "            continue\n",
    "\n",
    "        seg_mask = np.load(os.path.join(working_dir, img_file)).astype(np.float32)\n",
    "        weighted_seg_mask = np.zeros_like(seg_mask)\n",
    "        hm_file = str(int(img_file.split('.')[0])).zfill(10) + '.png'\n",
    "        \n",
    "        kphm_file = os.path.join(   shift_heatmap_dir, \n",
    "                                    str(sq_no).zfill(2), \n",
    "                                    img_folder, \n",
    "                                    hm_file)\n",
    "\n",
    "        kphm = np.array(Image.open(kphm_file))\n",
    "\n",
    "        for i in range(len(class_weights)):\n",
    "            weighted_seg_mask[seg_mask == i] = class_weights[i]\n",
    "\n",
    "        resized_seg_mask = cv2.resize(weighted_seg_mask, \n",
    "                                    (kphm.shape[1], kphm.shape[0]), \n",
    "                                    interpolation = cv2.INTER_LINEAR)\n",
    "\n",
    "        seg_mask = cv2.resize(seg_mask, \n",
    "                                (kphm.shape[1], kphm.shape[0]), \n",
    "                                interpolation = cv2.INTER_LINEAR)\n",
    "        forced_weighted_seg_mask = np.zeros_like(seg_mask, dtype=np.float32)\n",
    "        forced_weighted_seg_mask[seg_mask == 5] = 180.0\n",
    "        forced_weighted_seg_mask[seg_mask == 6] = 180.0\n",
    "        forced_weighted_seg_mask[seg_mask == 7] = 180.0\n",
    "        forced_weighted_seg_mask = cv2.filter2D(forced_weighted_seg_mask,-1,kernel)\n",
    "\n",
    "        # semantic_hm = cv2.filter2D(resized_seg_mask,-1,kernel)\n",
    "        # semantic_kphm = np.multiply(semantic_hm, kphm)\n",
    "        # semantic_kphm = (semantic_kphm/np.max(semantic_kphm))*255.0\n",
    "        semantic_kphm = kphm\n",
    "\n",
    "        forced_weighted_seg_mask[forced_weighted_seg_mask < semantic_kphm] = 0\n",
    "        semantic_kphm[forced_weighted_seg_mask > 0] = forced_weighted_seg_mask[forced_weighted_seg_mask > 0]\n",
    "\n",
    "        # plt.imshow(resized_seg_mask, cmap='gray', interpolation='nearest')\n",
    "        # plt.figure()\n",
    "        # plt.imshow(kphm, cmap='gray', interpolation='nearest')\n",
    "        # plt.figure()\n",
    "        \n",
    "        semantic_kphm_file = os.path.join(output_dir, hm_file)\n",
    "        plt.imsave(semantic_kphm_file, semantic_kphm, cmap='gray')\n",
    "\n",
    "    #     break\n",
    "    # break\n"
   ]
  },
  {
   "cell_type": "code",
   "execution_count": null,
   "metadata": {},
   "outputs": [],
   "source": []
  }
 ],
 "metadata": {
  "kernelspec": {
   "display_name": ".venv",
   "language": "python",
   "name": "python3"
  },
  "language_info": {
   "codemirror_mode": {
    "name": "ipython",
    "version": 3
   },
   "file_extension": ".py",
   "mimetype": "text/x-python",
   "name": "python",
   "nbconvert_exporter": "python",
   "pygments_lexer": "ipython3",
   "version": "3.8.10"
  }
 },
 "nbformat": 4,
 "nbformat_minor": 2
}
